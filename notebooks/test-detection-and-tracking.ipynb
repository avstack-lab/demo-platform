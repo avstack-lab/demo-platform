{
 "cells": [
  {
   "cell_type": "code",
   "execution_count": null,
   "id": "b4e5e32f",
   "metadata": {},
   "outputs": [],
   "source": [
    "import os, sys, glob\n",
    "from tqdm import tqdm\n",
    "import avstack\n",
    "import avapi\n",
    "import cv2\n",
    "import matplotlib.pyplot as plt\n",
    "\n",
    "%load_ext autoreload\n",
    "%autoreload 2\n",
    "\n",
    "image_dir = '../data/ADL-Rundle-6/img1/'\n",
    "det_file = '../data/ADL-Rundle-6/det/det.txt'\n",
    "gt_file = '../data/ADL-Rundle-6/gt/gt.txt'"
   ]
  },
  {
   "cell_type": "markdown",
   "id": "e6ee96ed",
   "metadata": {},
   "source": [
    "## Load Ground Truths\n",
    "\n",
    "\\<frame\\>, \\<id\\>, \\<bb_left\\>, \\<bb_top\\>, \\<bb_width\\>, \\<bb_height\\>, \\<conf\\>, \\<x\\>, \\<y\\>, \\<z\\>\n"
   ]
  },
  {
   "cell_type": "code",
   "execution_count": null,
   "id": "88c69c18",
   "metadata": {},
   "outputs": [],
   "source": [
    "# Load up the ground truths\n",
    "gt_boxes = []\n",
    "last_frame = -1\n",
    "obj_this_frame = None\n",
    "with open(gt_file, 'r') as f:\n",
    "    lines = f.read().splitlines()\n",
    "    for line in lines:\n",
    "        items = line.split(',')\n",
    "        frame, ID, bb_left, bb_top, bb_width, bb_height, conf, x, y, z = map(float, items)\n",
    "        if frame > last_frame:\n",
    "            if obj_this_frame is not None:\n",
    "                gt_boxes.append(obj_this_frame)\n",
    "            obj_this_frame = []\n",
    "        xmin = bb_left\n",
    "        ymin = bb_top\n",
    "        xmax = bb_left + bb_width\n",
    "        ymax = bb_top + bb_height\n",
    "        box2d = avstack.geometry.Box2D([xmin, ymin, xmax, ymax], avstack.calibration.NominalCalibration)\n",
    "        obj_this_frame.append(box2d)\n",
    "        last_frame = frame"
   ]
  },
  {
   "cell_type": "code",
   "execution_count": null,
   "id": "d39aea94",
   "metadata": {},
   "outputs": [],
   "source": [
    "%matplotlib inline\n",
    "\n",
    "def viz_image_with_boxes(i_frame, boxes):\n",
    "    # Visualize some ground truths\n",
    "    img1 = cv2.imread(os.path.join(image_dir, '%06d.jpg'%i_frame))\n",
    "    img1 = cv2.cvtColor(img1, cv2.COLOR_BGR2RGB)\n",
    "    color = (0, 255, 0)\n",
    "    for box in boxes:\n",
    "        img1 = cv2.rectangle(\n",
    "            img1,\n",
    "            (int(box.xmin), int(box.ymin)),\n",
    "            (int(box.xmax), int(box.ymax)),\n",
    "            color,\n",
    "            2,\n",
    "        )\n",
    "\n",
    "    # Show image\n",
    "    plt.imshow(img1)\n",
    "    plt.show()\n",
    "\n",
    "# Run it\n",
    "i_frame = 380\n",
    "viz_image_with_boxes(i_frame, gt_boxes[i_frame-1])"
   ]
  },
  {
   "cell_type": "markdown",
   "id": "901c8b7b",
   "metadata": {},
   "source": [
    "## Run Algorithms"
   ]
  },
  {
   "cell_type": "code",
   "execution_count": null,
   "id": "d8c37af4",
   "metadata": {},
   "outputs": [],
   "source": [
    "framerate = 30.0\n",
    "detector = avstack.modules.perception.object2dfv.MMDetObjectDetector2D(\n",
    "    model='fasterrcnn', dataset='coco-person', threshold=0.5)\n",
    "tracker = avstack.modules.tracking.tracker2d.SortTracker2D(framerate)"
   ]
  },
  {
   "cell_type": "code",
   "execution_count": null,
   "id": "64fc5cb8",
   "metadata": {},
   "outputs": [],
   "source": [
    "all_dets = {}\n",
    "all_tracks = {}\n",
    "image_files = sorted(glob.glob(os.path.join(image_dir, '*.jpg')))\n",
    "i_frame_start = 390\n",
    "n_frames = min(len(image_files), 50)\n",
    "cvt_to_rgb = True\n",
    "\n",
    "for frame, image_file in tqdm(enumerate(image_files[i_frame_start:i_frame_start+n_frames]), total=n_frames):\n",
    "    frame += i_frame_start\n",
    "    # -- load image in avstack standard format\n",
    "    image_data = cv2.imread(image_file)\n",
    "#     if cvt_to_rgb:\n",
    "#     image_data = cv2.cvtColor(image_data, cv2.COLOR_BGR2RGB)\n",
    "\n",
    "    timestamp = i_frame/framerate\n",
    "    image = avstack.sensors.ImageData(timestamp=timestamp,\n",
    "                                      frame=frame,\n",
    "                                      source_ID=0,\n",
    "                                      source_name='camera-0',\n",
    "                                      data=image_data,\n",
    "                                      calibration=avstack.calibration.NominalCalibration)\n",
    "    \n",
    "    # -- run detections and tracking\n",
    "    dets = detector(image, is_rgb=cvt_to_rgb)\n",
    "    tracks = tracker(dets, frame=frame, t=timestamp)\n",
    "    \n",
    "    # -- save results\n",
    "    all_dets[frame] = dets\n",
    "    all_tracks[frame] = tracks"
   ]
  },
  {
   "cell_type": "code",
   "execution_count": null,
   "id": "e7fbaf95",
   "metadata": {},
   "outputs": [],
   "source": [
    "for i in range(1, 40):\n",
    "    i_frame = i_frame_start + i\n",
    "    viz_image_with_boxes(i_frame, [d.box for d in all_dets[i_frame-1]])"
   ]
  },
  {
   "cell_type": "code",
   "execution_count": null,
   "id": "e04b54fc",
   "metadata": {},
   "outputs": [],
   "source": [
    "for i in range(1, 40):\n",
    "    i_frame = i_frame_start + i\n",
    "    viz_image_with_boxes(i_frame, [d.box for d in all_tracks[i_frame-1]])\n",
    "    print(len(all_tracks[i-frame - 1]))"
   ]
  },
  {
   "cell_type": "code",
   "execution_count": null,
   "id": "d0cd0a3d",
   "metadata": {},
   "outputs": [],
   "source": [
    "del detector"
   ]
  },
  {
   "cell_type": "code",
   "execution_count": null,
   "id": "f291dc64",
   "metadata": {},
   "outputs": [],
   "source": [
    "for i in range(1, 40):\n",
    "    i_frame = i_frame_start + i\n",
    "#     viz_image_with_boxes(i_frame, [d.box for d in all_tracks[i_frame-1]])\n",
    "    print(f'Frame {i_frame:3d}, {len(all_dets[i_frame]):3d} dets,  {len(all_tracks[i_frame]):3d} tracks')"
   ]
  },
  {
   "cell_type": "code",
   "execution_count": null,
   "id": "fdc980aa",
   "metadata": {},
   "outputs": [],
   "source": [
    "# ground truth vs real detections vs tracks\n",
    "i_frame = 30 + i_frame_start\n",
    "viz_image_with_boxes(i_frame, gt_boxes[i_frame-1])\n",
    "viz_image_with_boxes(i_frame, [d.box for d in all_dets[i_frame-1]])\n",
    "viz_image_with_boxes(i_frame, [t.box for t in all_tracks[i_frame-1]])"
   ]
  },
  {
   "cell_type": "code",
   "execution_count": null,
   "id": "58c056b5",
   "metadata": {},
   "outputs": [],
   "source": []
  }
 ],
 "metadata": {
  "kernelspec": {
   "display_name": "Python 3 (ipykernel)",
   "language": "python",
   "name": "python3"
  },
  "language_info": {
   "codemirror_mode": {
    "name": "ipython",
    "version": 3
   },
   "file_extension": ".py",
   "mimetype": "text/x-python",
   "name": "python",
   "nbconvert_exporter": "python",
   "pygments_lexer": "ipython3",
   "version": "3.8.16"
  }
 },
 "nbformat": 4,
 "nbformat_minor": 5
}
