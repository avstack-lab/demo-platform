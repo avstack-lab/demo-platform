{
 "cells": [
  {
   "cell_type": "code",
   "execution_count": null,
   "id": "b4e5e32f",
   "metadata": {},
   "outputs": [],
   "source": [
    "import os, sys, glob\n",
    "from tqdm import tqdm\n",
    "import avstack\n",
    "import avapi\n",
    "import cv2\n",
    "import matplotlib.pyplot as plt\n",
    "\n",
    "%load_ext autoreload\n",
    "%autoreload 2\n",
    "\n",
    "data_dir = '../data/MOT15/'\n",
    "\n",
    "MSM = avapi.mot15.MOT15SceneManager(data_dir=data_dir)\n",
    "MSD = MSM.get_scene_dataset_by_name('ADL-Rundle-6')"
   ]
  },
  {
   "cell_type": "markdown",
   "id": "901c8b7b",
   "metadata": {},
   "source": [
    "## Run Algorithms"
   ]
  },
  {
   "cell_type": "code",
   "execution_count": null,
   "id": "d8c37af4",
   "metadata": {},
   "outputs": [],
   "source": [
    "framerate = 30.0\n",
    "# detector = avstack.modules.perception.object2dfv.MMDetObjectDetector2D(\n",
    "#     model='fasterrcnn', dataset='coco-person', deploy=False)\n",
    "detector = avstack.modules.perception.object2dfv.MMDetObjectDetector2D(\n",
    "    model='cascade_rcnn', dataset='coco', deploy=True)\n",
    "tracker = avstack.modules.tracking.tracker2d.SortTracker2D()"
   ]
  },
  {
   "cell_type": "code",
   "execution_count": null,
   "id": "64fc5cb8",
   "metadata": {},
   "outputs": [],
   "source": [
    "all_dets = {}\n",
    "all_tracks = {}\n",
    "i_frame_start = 390\n",
    "n_frames = 30; n_frames = min(len(MSD), n_frames)\n",
    "cvt_to_rgb = True\n",
    "ego_ref = MSD.get_ego_reference(frame=1)\n",
    "\n",
    "all_frames = []\n",
    "for i_frame, frame in tqdm(enumerate(MSD.frames[i_frame_start:i_frame_start+n_frames]), total=n_frames):\n",
    "    all_frames.append(frame)\n",
    "    # -- load image in avstack standard format\n",
    "    img = MSD.get_image(frame=frame)\n",
    "    \n",
    "    # -- run detections and tracking\n",
    "    dets = detector(img)\n",
    "    tracks = tracker(detections=dets, frame=img.frame, t=img.timestamp, platform=ego_ref)\n",
    "    \n",
    "    # -- save results\n",
    "    all_dets[frame] = dets\n",
    "    all_tracks[frame] = tracks"
   ]
  },
  {
   "cell_type": "code",
   "execution_count": null,
   "id": "58c056b5",
   "metadata": {},
   "outputs": [],
   "source": [
    "idx_frame = 10\n",
    "frame = all_frames[idx_frame]\n",
    "img = MSD.get_image(frame=frame)\n",
    "objs = MSD.get_objects(frame=frame)\n",
    "avapi.visualize.snapshot.show_image_with_boxes(img, objs, inline=True) \n",
    "avapi.visualize.snapshot.show_image_with_boxes(img, all_dets[frame], inline=True)\n",
    "avapi.visualize.snapshot.show_image_with_boxes(img, all_tracks[frame], inline=True) "
   ]
  },
  {
   "cell_type": "code",
   "execution_count": null,
   "id": "fcf6e06d-61ef-4bb3-a359-8a980f65744c",
   "metadata": {},
   "outputs": [],
   "source": []
  }
 ],
 "metadata": {
  "kernelspec": {
   "display_name": "Python 3 (ipykernel)",
   "language": "python",
   "name": "python3"
  },
  "language_info": {
   "codemirror_mode": {
    "name": "ipython",
    "version": 3
   },
   "file_extension": ".py",
   "mimetype": "text/x-python",
   "name": "python",
   "nbconvert_exporter": "python",
   "pygments_lexer": "ipython3",
   "version": "3.10.12"
  }
 },
 "nbformat": 4,
 "nbformat_minor": 5
}
